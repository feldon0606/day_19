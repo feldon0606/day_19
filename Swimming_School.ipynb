{
  "nbformat": 4,
  "nbformat_minor": 0,
  "metadata": {
    "colab": {
      "name": "Swimming School.ipynb",
      "provenance": [],
      "include_colab_link": true
    },
    "kernelspec": {
      "name": "python3",
      "display_name": "Python 3"
    },
    "language_info": {
      "name": "python"
    }
  },
  "cells": [
    {
      "cell_type": "markdown",
      "metadata": {
        "id": "view-in-github",
        "colab_type": "text"
      },
      "source": [
        "<a href=\"https://colab.research.google.com/github/feldon0606/day_19/blob/main/Swimming_School.ipynb\" target=\"_parent\"><img src=\"https://colab.research.google.com/assets/colab-badge.svg\" alt=\"Open In Colab\"/></a>"
      ]
    },
    {
      "cell_type": "markdown",
      "metadata": {
        "id": "MUewqhb7zjvG"
      },
      "source": [
        "# Tasks \n",
        "## This the list of stuff to do\n",
        "\n",
        "\n",
        "1.   Drop duplicate columns \n",
        "2.   Figure out how to plot the LSOA and colour code them based on delta values\n",
        "3.   Look into only keeping the areas with biggest change\n",
        "4.  Figure out whether +/-1000 means an area is more or less affordable than it was.\n",
        "5. Find and save a link to IMD documentation somewhere here.\n",
        "6. figure out a nice folder structure and load the variables with it.\n",
        "7. Find median house price by LSOA/MSOA 2019/15 datasets.\n"
      ]
    },
    {
      "cell_type": "code",
      "metadata": {
        "colab": {
          "base_uri": "https://localhost:8080/"
        },
        "id": "-xSrWqvaoxiq",
        "outputId": "191c2719-fe7e-43bc-b9bd-2604232637fd"
      },
      "source": [
        "!wget -O IMD_2015.csv https://assets.publishing.service.gov.uk/government/uploads/system/uploads/attachment_data/file/467774/File_7_ID_2015_All_ranks__deciles_and_scores_for_the_Indices_of_Deprivation__and_population_denominators.csv\n",
        "!wget -O IMD_2019.csv https://assets.publishing.service.gov.uk/government/uploads/system/uploads/attachment_data/file/845345/File_7_-_All_IoD2019_Scores__Ranks__Deciles_and_Population_Denominators_3.csv\n",
        "!wget -O LSOA.zip https://data.cambridgeshireinsight.org.uk/sites/default/files/Lower_Layer_Super_Output_Areas_December_2011_Generalised_Clipped__Boundaries_in_England_and_Wales.zip"
      ],
      "execution_count": null,
      "outputs": [
        {
          "output_type": "stream",
          "text": [
            "--2021-08-17 20:08:36--  https://assets.publishing.service.gov.uk/government/uploads/system/uploads/attachment_data/file/467774/File_7_ID_2015_All_ranks__deciles_and_scores_for_the_Indices_of_Deprivation__and_population_denominators.csv\n",
            "Resolving assets.publishing.service.gov.uk (assets.publishing.service.gov.uk)... 151.101.0.144, 151.101.64.144, 151.101.128.144, ...\n",
            "Connecting to assets.publishing.service.gov.uk (assets.publishing.service.gov.uk)|151.101.0.144|:443... connected.\n",
            "HTTP request sent, awaiting response... 200 OK\n",
            "Length: 9783456 (9.3M) [text/csv]\n",
            "Saving to: ‘IMD_2015.csv’\n",
            "\n",
            "IMD_2015.csv        100%[===================>]   9.33M  --.-KB/s    in 0.1s    \n",
            "\n",
            "2021-08-17 20:08:36 (87.4 MB/s) - ‘IMD_2015.csv’ saved [9783456/9783456]\n",
            "\n",
            "--2021-08-17 20:08:36--  https://assets.publishing.service.gov.uk/government/uploads/system/uploads/attachment_data/file/845345/File_7_-_All_IoD2019_Scores__Ranks__Deciles_and_Population_Denominators_3.csv\n",
            "Resolving assets.publishing.service.gov.uk (assets.publishing.service.gov.uk)... 151.101.0.144, 151.101.64.144, 151.101.128.144, ...\n",
            "Connecting to assets.publishing.service.gov.uk (assets.publishing.service.gov.uk)|151.101.0.144|:443... connected.\n",
            "HTTP request sent, awaiting response... 200 OK\n",
            "Length: 9727566 (9.3M) [text/csv]\n",
            "Saving to: ‘IMD_2019.csv’\n",
            "\n",
            "IMD_2019.csv        100%[===================>]   9.28M  35.4MB/s    in 0.3s    \n",
            "\n",
            "2021-08-17 20:08:36 (35.4 MB/s) - ‘IMD_2019.csv’ saved [9727566/9727566]\n",
            "\n",
            "--2021-08-17 20:08:36--  https://data.cambridgeshireinsight.org.uk/sites/default/files/Lower_Layer_Super_Output_Areas_December_2011_Generalised_Clipped__Boundaries_in_England_and_Wales.zip\n",
            "Resolving data.cambridgeshireinsight.org.uk (data.cambridgeshireinsight.org.uk)... 18.135.169.155, 35.178.60.240\n",
            "Connecting to data.cambridgeshireinsight.org.uk (data.cambridgeshireinsight.org.uk)|18.135.169.155|:443... connected.\n",
            "HTTP request sent, awaiting response... 200 OK\n",
            "Length: 22140400 (21M) [application/zip]\n",
            "Saving to: ‘LSOA.zip’\n",
            "\n",
            "LSOA.zip            100%[===================>]  21.11M  10.8MB/s    in 2.0s    \n",
            "\n",
            "2021-08-17 20:08:39 (10.8 MB/s) - ‘LSOA.zip’ saved [22140400/22140400]\n",
            "\n"
          ],
          "name": "stdout"
        }
      ]
    },
    {
      "cell_type": "code",
      "metadata": {
        "id": "_gvESrTqo0Mu"
      },
      "source": [
        "import pandas as pd\n",
        "#read csvs\n",
        "imd_2015 = pd.read_csv(\"IMD_2015.csv\")\n",
        "imd_2019 = pd.read_csv(\"IMD_2019.csv\")\n",
        "\n",
        "#sort pandas\n",
        "imd_2015 = imd_2015.sort_values(by=['LSOA code (2011)'], ignore_index=True)\n",
        "imd_2019 = imd_2019.sort_values(by=['LSOA code (2011)'], ignore_index=True)\n",
        "\n",
        "#grab just area codes and names\n",
        "names_codes = imd_2019[[\"LSOA code (2011)\",\"LSOA name (2011)\"]]"
      ],
      "execution_count": null,
      "outputs": []
    },
    {
      "cell_type": "code",
      "metadata": {
        "id": "nS50UMfJp9rX"
      },
      "source": [
        "#finding the difference\n",
        "delta_housing_barriers =  imd_2019[\"Barriers to Housing and Services Rank (where 1 is most deprived)\"] - imd_2015[\"Barriers to Housing and Services Rank (where 1 is most deprived)\"]"
      ],
      "execution_count": null,
      "outputs": []
    },
    {
      "cell_type": "code",
      "metadata": {
        "colab": {
          "base_uri": "https://localhost:8080/"
        },
        "id": "wBfSq0biqC0n",
        "outputId": "7869a0be-f5ce-4a76-e575-22b8258f4b32"
      },
      "source": [
        "names_codes[\"delta_housing_barriers\"] = delta_housing_barriers"
      ],
      "execution_count": null,
      "outputs": [
        {
          "output_type": "stream",
          "text": [
            "/usr/local/lib/python3.7/dist-packages/ipykernel_launcher.py:1: SettingWithCopyWarning: \n",
            "A value is trying to be set on a copy of a slice from a DataFrame.\n",
            "Try using .loc[row_indexer,col_indexer] = value instead\n",
            "\n",
            "See the caveats in the documentation: https://pandas.pydata.org/pandas-docs/stable/user_guide/indexing.html#returning-a-view-versus-a-copy\n",
            "  \"\"\"Entry point for launching an IPython kernel.\n"
          ],
          "name": "stderr"
        }
      ]
    },
    {
      "cell_type": "code",
      "metadata": {
        "colab": {
          "base_uri": "https://localhost:8080/",
          "height": 204
        },
        "id": "AxvBle_wx6f9",
        "outputId": "0cf5adb2-3252-4bb6-ab8f-9988d050f2bb"
      },
      "source": [
        "names_codes.rename({\"LSOA code (2011)\":\"lsoa11cd\"}, axis=1, inplace=True)\n",
        "names_codes.head()"
      ],
      "execution_count": null,
      "outputs": [
        {
          "output_type": "execute_result",
          "data": {
            "text/html": [
              "<div>\n",
              "<style scoped>\n",
              "    .dataframe tbody tr th:only-of-type {\n",
              "        vertical-align: middle;\n",
              "    }\n",
              "\n",
              "    .dataframe tbody tr th {\n",
              "        vertical-align: top;\n",
              "    }\n",
              "\n",
              "    .dataframe thead th {\n",
              "        text-align: right;\n",
              "    }\n",
              "</style>\n",
              "<table border=\"1\" class=\"dataframe\">\n",
              "  <thead>\n",
              "    <tr style=\"text-align: right;\">\n",
              "      <th></th>\n",
              "      <th>lsoa11cd</th>\n",
              "      <th>LSOA name (2011)</th>\n",
              "      <th>delta_housing_barriers</th>\n",
              "    </tr>\n",
              "  </thead>\n",
              "  <tbody>\n",
              "    <tr>\n",
              "      <th>0</th>\n",
              "      <td>E01000001</td>\n",
              "      <td>City of London 001A</td>\n",
              "      <td>-1737</td>\n",
              "    </tr>\n",
              "    <tr>\n",
              "      <th>1</th>\n",
              "      <td>E01000002</td>\n",
              "      <td>City of London 001B</td>\n",
              "      <td>1991</td>\n",
              "    </tr>\n",
              "    <tr>\n",
              "      <th>2</th>\n",
              "      <td>E01000003</td>\n",
              "      <td>City of London 001C</td>\n",
              "      <td>-3476</td>\n",
              "    </tr>\n",
              "    <tr>\n",
              "      <th>3</th>\n",
              "      <td>E01000005</td>\n",
              "      <td>City of London 001E</td>\n",
              "      <td>-1764</td>\n",
              "    </tr>\n",
              "    <tr>\n",
              "      <th>4</th>\n",
              "      <td>E01000006</td>\n",
              "      <td>Barking and Dagenham 016A</td>\n",
              "      <td>-1164</td>\n",
              "    </tr>\n",
              "  </tbody>\n",
              "</table>\n",
              "</div>"
            ],
            "text/plain": [
              "    lsoa11cd           LSOA name (2011)  delta_housing_barriers\n",
              "0  E01000001        City of London 001A                   -1737\n",
              "1  E01000002        City of London 001B                    1991\n",
              "2  E01000003        City of London 001C                   -3476\n",
              "3  E01000005        City of London 001E                   -1764\n",
              "4  E01000006  Barking and Dagenham 016A                   -1164"
            ]
          },
          "metadata": {
            "tags": []
          },
          "execution_count": 40
        }
      ]
    },
    {
      "cell_type": "markdown",
      "metadata": {
        "id": "GWVRNsD5vWWL"
      },
      "source": [
        "# PLOTTING ON A GRAPH, COLOUR CODING BY DIFFERENCE"
      ]
    },
    {
      "cell_type": "code",
      "metadata": {
        "id": "vU-1EImYtSCp",
        "colab": {
          "base_uri": "https://localhost:8080/"
        },
        "outputId": "84cd5e8c-3080-48bb-b530-14e6c0eb2869"
      },
      "source": [
        "!pip install geopandas\n",
        "\n",
        "!unzip LSOA.zip"
      ],
      "execution_count": null,
      "outputs": [
        {
          "output_type": "stream",
          "text": [
            "Archive:  LSOA.zip\n",
            "  inflating: Lower_Layer_Super_Output_Areas_December_2011_Generalised_Clipped__Boundaries_in_England_and_Wales.xml  \n",
            "  inflating: Lower_Layer_Super_Output_Areas_December_2011_Generalised_Clipped__Boundaries_in_England_and_Wales.prj  \n",
            " extracting: Lower_Layer_Super_Output_Areas_December_2011_Generalised_Clipped__Boundaries_in_England_and_Wales.cpg  \n",
            "  inflating: Lower_Layer_Super_Output_Areas_December_2011_Generalised_Clipped__Boundaries_in_England_and_Wales.shx  \n",
            "  inflating: Lower_Layer_Super_Output_Areas_December_2011_Generalised_Clipped__Boundaries_in_England_and_Wales.shp  \n",
            "  inflating: Lower_Layer_Super_Output_Areas_December_2011_Generalised_Clipped__Boundaries_in_England_and_Wales.dbf  \n"
          ],
          "name": "stdout"
        }
      ]
    },
    {
      "cell_type": "code",
      "metadata": {
        "id": "4uDNFpwcv00m"
      },
      "source": [
        "import geopandas as gp\n",
        "LSOA = gp.read_file(\"Lower_Layer_Super_Output_Areas_December_2011_Generalised_Clipped__Boundaries_in_England_and_Wales.shp\")"
      ],
      "execution_count": null,
      "outputs": []
    },
    {
      "cell_type": "code",
      "metadata": {
        "colab": {
          "base_uri": "https://localhost:8080/",
          "height": 283
        },
        "id": "PQdEihjCwNMG",
        "outputId": "9b10212c-ea41-42a8-8640-0ec30b9fcf67"
      },
      "source": [
        "LSOA.plot()"
      ],
      "execution_count": null,
      "outputs": [
        {
          "output_type": "execute_result",
          "data": {
            "text/plain": [
              "<matplotlib.axes._subplots.AxesSubplot at 0x7fc463a2b490>"
            ]
          },
          "metadata": {
            "tags": []
          },
          "execution_count": 23
        },
        {
          "output_type": "display_data",
          "data": {
            "image/png": "[encoded data removed]",
            "text/plain": [
              "<Figure size 432x288 with 1 Axes>"
            ]
          },
          "metadata": {
            "tags": [],
            "needs_background": "light"
          }
        }
      ]
    },
    {
      "cell_type": "code",
      "metadata": {
        "colab": {
          "base_uri": "https://localhost:8080/",
          "height": 419
        },
        "id": "b2e5V9oFwhHF",
        "outputId": "c016e01a-7d6d-42a2-8064-18c67145005a"
      },
      "source": [
        "LSOA.sort_values(by=[\"lsoa11cd\"], ignore_index=True)"
      ],
      "execution_count": null,
      "outputs": [
        {
          "output_type": "execute_result",
          "data": {
            "text/html": [
              "<div>\n",
              "<style scoped>\n",
              "    .dataframe tbody tr th:only-of-type {\n",
              "        vertical-align: middle;\n",
              "    }\n",
              "\n",
              "    .dataframe tbody tr th {\n",
              "        vertical-align: top;\n",
              "    }\n",
              "\n",
              "    .dataframe thead th {\n",
              "        text-align: right;\n",
              "    }\n",
              "</style>\n",
              "<table border=\"1\" class=\"dataframe\">\n",
              "  <thead>\n",
              "    <tr style=\"text-align: right;\">\n",
              "      <th></th>\n",
              "      <th>objectid</th>\n",
              "      <th>lsoa11cd</th>\n",
              "      <th>lsoa11nm</th>\n",
              "      <th>lsoa11nmw</th>\n",
              "      <th>st_areasha</th>\n",
              "      <th>st_lengths</th>\n",
              "      <th>geometry</th>\n",
              "    </tr>\n",
              "  </thead>\n",
              "  <tbody>\n",
              "    <tr>\n",
              "      <th>0</th>\n",
              "      <td>1</td>\n",
              "      <td>E01000001</td>\n",
              "      <td>City of London 001A</td>\n",
              "      <td>City of London 001A</td>\n",
              "      <td>1.333208e+05</td>\n",
              "      <td>2291.846072</td>\n",
              "      <td>POLYGON ((-0.09726 51.52158, -0.09649 51.52028...</td>\n",
              "    </tr>\n",
              "    <tr>\n",
              "      <th>1</th>\n",
              "      <td>2</td>\n",
              "      <td>E01000002</td>\n",
              "      <td>City of London 001B</td>\n",
              "      <td>City of London 001B</td>\n",
              "      <td>2.261913e+05</td>\n",
              "      <td>2433.960112</td>\n",
              "      <td>POLYGON ((-0.08810 51.51941, -0.08927 51.51752...</td>\n",
              "    </tr>\n",
              "    <tr>\n",
              "      <th>2</th>\n",
              "      <td>3</td>\n",
              "      <td>E01000003</td>\n",
              "      <td>City of London 001C</td>\n",
              "      <td>City of London 001C</td>\n",
              "      <td>5.730297e+04</td>\n",
              "      <td>1142.359799</td>\n",
              "      <td>POLYGON ((-0.09676 51.52325, -0.09644 51.52282...</td>\n",
              "    </tr>\n",
              "    <tr>\n",
              "      <th>3</th>\n",
              "      <td>4</td>\n",
              "      <td>E01000005</td>\n",
              "      <td>City of London 001E</td>\n",
              "      <td>City of London 001E</td>\n",
              "      <td>1.907388e+05</td>\n",
              "      <td>2167.868343</td>\n",
              "      <td>POLYGON ((-0.07320 51.51000, -0.07551 51.50974...</td>\n",
              "    </tr>\n",
              "    <tr>\n",
              "      <th>4</th>\n",
              "      <td>5</td>\n",
              "      <td>E01000006</td>\n",
              "      <td>Barking and Dagenham 016A</td>\n",
              "      <td>Barking and Dagenham 016A</td>\n",
              "      <td>1.441958e+05</td>\n",
              "      <td>1935.510354</td>\n",
              "      <td>POLYGON ((0.09118 51.53909, 0.09328 51.53787, ...</td>\n",
              "    </tr>\n",
              "    <tr>\n",
              "      <th>...</th>\n",
              "      <td>...</td>\n",
              "      <td>...</td>\n",
              "      <td>...</td>\n",
              "      <td>...</td>\n",
              "      <td>...</td>\n",
              "      <td>...</td>\n",
              "      <td>...</td>\n",
              "    </tr>\n",
              "    <tr>\n",
              "      <th>34748</th>\n",
              "      <td>34749</td>\n",
              "      <td>W01001954</td>\n",
              "      <td>Cardiff 006F</td>\n",
              "      <td>Caerdydd 006F</td>\n",
              "      <td>6.471879e+05</td>\n",
              "      <td>5353.810154</td>\n",
              "      <td>POLYGON ((-3.25546 51.52101, -3.25489 51.51968...</td>\n",
              "    </tr>\n",
              "    <tr>\n",
              "      <th>34749</th>\n",
              "      <td>34750</td>\n",
              "      <td>W01001955</td>\n",
              "      <td>Swansea 025F</td>\n",
              "      <td>Abertawe 025F</td>\n",
              "      <td>6.900149e+05</td>\n",
              "      <td>5776.750473</td>\n",
              "      <td>POLYGON ((-3.94053 51.63059, -3.93913 51.62702...</td>\n",
              "    </tr>\n",
              "    <tr>\n",
              "      <th>34750</th>\n",
              "      <td>34751</td>\n",
              "      <td>W01001956</td>\n",
              "      <td>Swansea 023E</td>\n",
              "      <td>Abertawe 023E</td>\n",
              "      <td>2.493308e+06</td>\n",
              "      <td>12586.351015</td>\n",
              "      <td>POLYGON ((-4.02465 51.63615, -4.02458 51.63574...</td>\n",
              "    </tr>\n",
              "    <tr>\n",
              "      <th>34751</th>\n",
              "      <td>34752</td>\n",
              "      <td>W01001957</td>\n",
              "      <td>Swansea 025G</td>\n",
              "      <td>Abertawe 025G</td>\n",
              "      <td>2.144800e+05</td>\n",
              "      <td>2635.105196</td>\n",
              "      <td>POLYGON ((-3.94920 51.61754, -3.94814 51.61670...</td>\n",
              "    </tr>\n",
              "    <tr>\n",
              "      <th>34752</th>\n",
              "      <td>34753</td>\n",
              "      <td>W01001958</td>\n",
              "      <td>Swansea 025H</td>\n",
              "      <td>Abertawe 025H</td>\n",
              "      <td>3.127378e+05</td>\n",
              "      <td>4785.840963</td>\n",
              "      <td>POLYGON ((-3.93505 51.62182, -3.93146 51.61739...</td>\n",
              "    </tr>\n",
              "  </tbody>\n",
              "</table>\n",
              "<p>34753 rows × 7 columns</p>\n",
              "</div>"
            ],
            "text/plain": [
              "       objectid  ...                                           geometry\n",
              "0             1  ...  POLYGON ((-0.09726 51.52158, -0.09649 51.52028...\n",
              "1             2  ...  POLYGON ((-0.08810 51.51941, -0.08927 51.51752...\n",
              "2             3  ...  POLYGON ((-0.09676 51.52325, -0.09644 51.52282...\n",
              "3             4  ...  POLYGON ((-0.07320 51.51000, -0.07551 51.50974...\n",
              "4             5  ...  POLYGON ((0.09118 51.53909, 0.09328 51.53787, ...\n",
              "...         ...  ...                                                ...\n",
              "34748     34749  ...  POLYGON ((-3.25546 51.52101, -3.25489 51.51968...\n",
              "34749     34750  ...  POLYGON ((-3.94053 51.63059, -3.93913 51.62702...\n",
              "34750     34751  ...  POLYGON ((-4.02465 51.63615, -4.02458 51.63574...\n",
              "34751     34752  ...  POLYGON ((-3.94920 51.61754, -3.94814 51.61670...\n",
              "34752     34753  ...  POLYGON ((-3.93505 51.62182, -3.93146 51.61739...\n",
              "\n",
              "[34753 rows x 7 columns]"
            ]
          },
          "metadata": {
            "tags": []
          },
          "execution_count": 29
        }
      ]
    },
    {
      "cell_type": "code",
      "metadata": {
        "id": "8XXJy6Dywr6E"
      },
      "source": [
        "LSOA = LSOA.merge(names_codes, on='lsoa11cd')"
      ],
      "execution_count": null,
      "outputs": []
    },
    {
      "cell_type": "code",
      "metadata": {
        "colab": {
          "base_uri": "https://localhost:8080/",
          "height": 289
        },
        "id": "wH8Q4a9nxEHK",
        "outputId": "dc760730-a8fb-4555-cc13-60a5bc09f005"
      },
      "source": [
        "LSOA.head()"
      ],
      "execution_count": null,
      "outputs": [
        {
          "output_type": "execute_result",
          "data": {
            "text/html": [
              "<div>\n",
              "<style scoped>\n",
              "    .dataframe tbody tr th:only-of-type {\n",
              "        vertical-align: middle;\n",
              "    }\n",
              "\n",
              "    .dataframe tbody tr th {\n",
              "        vertical-align: top;\n",
              "    }\n",
              "\n",
              "    .dataframe thead th {\n",
              "        text-align: right;\n",
              "    }\n",
              "</style>\n",
              "<table border=\"1\" class=\"dataframe\">\n",
              "  <thead>\n",
              "    <tr style=\"text-align: right;\">\n",
              "      <th></th>\n",
              "      <th>objectid</th>\n",
              "      <th>lsoa11cd</th>\n",
              "      <th>lsoa11nm</th>\n",
              "      <th>lsoa11nmw</th>\n",
              "      <th>st_areasha</th>\n",
              "      <th>st_lengths</th>\n",
              "      <th>geometry</th>\n",
              "      <th>LSOA name (2011)</th>\n",
              "      <th>delta_housing_barriers</th>\n",
              "    </tr>\n",
              "  </thead>\n",
              "  <tbody>\n",
              "    <tr>\n",
              "      <th>0</th>\n",
              "      <td>1</td>\n",
              "      <td>E01000001</td>\n",
              "      <td>City of London 001A</td>\n",
              "      <td>City of London 001A</td>\n",
              "      <td>133320.768872</td>\n",
              "      <td>2291.846072</td>\n",
              "      <td>POLYGON ((-0.09726 51.52158, -0.09649 51.52028...</td>\n",
              "      <td>City of London 001A</td>\n",
              "      <td>-1737</td>\n",
              "    </tr>\n",
              "    <tr>\n",
              "      <th>1</th>\n",
              "      <td>2</td>\n",
              "      <td>E01000002</td>\n",
              "      <td>City of London 001B</td>\n",
              "      <td>City of London 001B</td>\n",
              "      <td>226191.272990</td>\n",
              "      <td>2433.960112</td>\n",
              "      <td>POLYGON ((-0.08810 51.51941, -0.08927 51.51752...</td>\n",
              "      <td>City of London 001B</td>\n",
              "      <td>1991</td>\n",
              "    </tr>\n",
              "    <tr>\n",
              "      <th>2</th>\n",
              "      <td>3</td>\n",
              "      <td>E01000003</td>\n",
              "      <td>City of London 001C</td>\n",
              "      <td>City of London 001C</td>\n",
              "      <td>57302.966538</td>\n",
              "      <td>1142.359799</td>\n",
              "      <td>POLYGON ((-0.09676 51.52325, -0.09644 51.52282...</td>\n",
              "      <td>City of London 001C</td>\n",
              "      <td>-3476</td>\n",
              "    </tr>\n",
              "    <tr>\n",
              "      <th>3</th>\n",
              "      <td>4</td>\n",
              "      <td>E01000005</td>\n",
              "      <td>City of London 001E</td>\n",
              "      <td>City of London 001E</td>\n",
              "      <td>190738.760504</td>\n",
              "      <td>2167.868343</td>\n",
              "      <td>POLYGON ((-0.07320 51.51000, -0.07551 51.50974...</td>\n",
              "      <td>City of London 001E</td>\n",
              "      <td>-1764</td>\n",
              "    </tr>\n",
              "    <tr>\n",
              "      <th>4</th>\n",
              "      <td>5</td>\n",
              "      <td>E01000006</td>\n",
              "      <td>Barking and Dagenham 016A</td>\n",
              "      <td>Barking and Dagenham 016A</td>\n",
              "      <td>144195.846857</td>\n",
              "      <td>1935.510354</td>\n",
              "      <td>POLYGON ((0.09118 51.53909, 0.09328 51.53787, ...</td>\n",
              "      <td>Barking and Dagenham 016A</td>\n",
              "      <td>-1164</td>\n",
              "    </tr>\n",
              "  </tbody>\n",
              "</table>\n",
              "</div>"
            ],
            "text/plain": [
              "   objectid   lsoa11cd  ...           LSOA name (2011) delta_housing_barriers\n",
              "0         1  E01000001  ...        City of London 001A                  -1737\n",
              "1         2  E01000002  ...        City of London 001B                   1991\n",
              "2         3  E01000003  ...        City of London 001C                  -3476\n",
              "3         4  E01000005  ...        City of London 001E                  -1764\n",
              "4         5  E01000006  ...  Barking and Dagenham 016A                  -1164\n",
              "\n",
              "[5 rows x 9 columns]"
            ]
          },
          "metadata": {
            "tags": []
          },
          "execution_count": 42
        }
      ]
    },
    {
      "cell_type": "code",
      "metadata": {
        "id": "bqznL7MEy-XW"
      },
      "source": [
        ""
      ],
      "execution_count": null,
      "outputs": []
    }
  ]
}